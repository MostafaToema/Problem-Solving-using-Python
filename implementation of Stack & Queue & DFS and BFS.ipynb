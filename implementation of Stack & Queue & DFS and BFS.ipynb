{
 "cells": [
  {
   "cell_type": "markdown",
   "id": "9dd1c479",
   "metadata": {},
   "source": [
    "## 1- Implementation of Stack"
   ]
  },
  {
   "cell_type": "code",
   "execution_count": 1,
   "id": "2a73d960",
   "metadata": {},
   "outputs": [],
   "source": [
    "import math"
   ]
  },
  {
   "cell_type": "code",
   "execution_count": 2,
   "id": "00a3bc6e",
   "metadata": {},
   "outputs": [],
   "source": [
    "class Stack:\n",
    "    def __init__(self, size):\n",
    "        if size < 1 or type(size) != int:\n",
    "            raise (TypeError(\"The type of size is not integer or size less than one\"))\n",
    "        self.count = -1\n",
    "        self.list = []\n",
    "        self.size = size\n",
    "        \n",
    "    def isFull(self):\n",
    "        if self.count == (self.size - 1):\n",
    "            return True\n",
    "        else:\n",
    "            return False\n",
    "        \n",
    "    def isEmpty(self):\n",
    "        if self.count == -1:\n",
    "            return True\n",
    "        else:\n",
    "            return False\n",
    "    \n",
    "    def push(self, elment):\n",
    "        if self.isFull():\n",
    "            raise (TypeError(\"The stack is full\"))\n",
    "        else:\n",
    "            self.list.append(elment)\n",
    "            self.count += 1\n",
    "        \n",
    "    def pop(self):\n",
    "        if self.isEmpty():\n",
    "            raise (TypeError(\"The stack is empty\"))\n",
    "        else:\n",
    "            self.count -= 1\n",
    "            return self.list.pop(-1)\n",
    "        \n",
    "    def returnStack(self):\n",
    "        return self.list\n",
    "   "
   ]
  },
  {
   "cell_type": "markdown",
   "id": "1491a17c",
   "metadata": {},
   "source": [
    "## 2- Implementation of Queue"
   ]
  },
  {
   "cell_type": "code",
   "execution_count": 3,
   "id": "133908c4",
   "metadata": {},
   "outputs": [],
   "source": [
    "class Queue:\n",
    "    def __init__(self, size):\n",
    "        if size < 1 or type(size) != int:\n",
    "            raise (TypeError(\"The type of size is not integer or size less than one\"))\n",
    "        self.count = -1\n",
    "        self.list = []\n",
    "        self.size = size\n",
    "        \n",
    "    def isFull(self):\n",
    "        if self.count == (self.size - 1):\n",
    "            return True\n",
    "        else:\n",
    "            return False\n",
    "        \n",
    "    def isEmpty(self):\n",
    "        if self.count == -1:\n",
    "            return True\n",
    "        else:\n",
    "            return False\n",
    "    \n",
    "    def push(self, elment):\n",
    "        if self.isFull():\n",
    "            raise (TypeError(\"The stack is full\"))\n",
    "        else:\n",
    "            self.list.append(elment)\n",
    "            self.count += 1\n",
    "        \n",
    "    def pop(self):\n",
    "        if self.isEmpty():\n",
    "            raise (TypeError(\"The stack is empty\"))\n",
    "        else:\n",
    "            self.count -= 1\n",
    "            return self.list.pop(0)\n",
    "        \n",
    "    def returnQueue(self):\n",
    "        return self.list\n",
    "   "
   ]
  },
  {
   "cell_type": "markdown",
   "id": "9fa921d5",
   "metadata": {},
   "source": [
    "## 3- DFS"
   ]
  },
  {
   "cell_type": "code",
   "execution_count": 4,
   "id": "b518209b",
   "metadata": {},
   "outputs": [],
   "source": [
    "Graph = {\"a\": [\"b\", \"c\", \"e\"],\n",
    "         \"b\": [\"a\", \"d\"],\n",
    "         \"c\": [\"a\", \"d\", \"e\", \"f\"],\n",
    "         \"d\": [\"b\", \"c\", \"e\"],\n",
    "         \"e\": [\"a\", \"d\", \"c\"],\n",
    "         \"f\": [\"c\"]}"
   ]
  },
  {
   "cell_type": "code",
   "execution_count": 5,
   "id": "0fcda3f7",
   "metadata": {},
   "outputs": [],
   "source": [
    "def DFS(graph, startPoint, size):\n",
    "    visited = []\n",
    "    childs = Stack(size)\n",
    "    childs.push(startPoint)\n",
    "    \n",
    "    while not childs.isEmpty():\n",
    "        node = childs.pop()\n",
    "        if node not in visited:\n",
    "            visited.append(node)\n",
    "            for i in graph[node]:\n",
    "                childs.push(i)\n",
    "        \n",
    "    return visited"
   ]
  },
  {
   "cell_type": "code",
   "execution_count": 6,
   "id": "9e75f1ec",
   "metadata": {},
   "outputs": [
    {
     "data": {
      "text/plain": [
       "['a', 'e', 'c', 'f', 'd', 'b']"
      ]
     },
     "execution_count": 6,
     "metadata": {},
     "output_type": "execute_result"
    }
   ],
   "source": [
    "DFS(Graph, \"a\", 100)"
   ]
  },
  {
   "cell_type": "markdown",
   "id": "ab91fd76",
   "metadata": {},
   "source": [
    "## 4- Recursive DFS"
   ]
  },
  {
   "cell_type": "code",
   "execution_count": 7,
   "id": "8a5d1890",
   "metadata": {},
   "outputs": [],
   "source": [
    "visited = []\n",
    "def recursiveDFS(graph, startPoint, visited = []):\n",
    "    visited.append(startPoint)\n",
    "    \n",
    "    for neighbour in graph[startPoint]:\n",
    "        if neighbour not in visited:\n",
    "            recursiveDFS(graph, neighbour, visited) \n",
    "    return visited"
   ]
  },
  {
   "cell_type": "code",
   "execution_count": 8,
   "id": "43472783",
   "metadata": {},
   "outputs": [
    {
     "data": {
      "text/plain": [
       "['a', 'b', 'd', 'c', 'e', 'f']"
      ]
     },
     "execution_count": 8,
     "metadata": {},
     "output_type": "execute_result"
    }
   ],
   "source": [
    "recursiveDFS(Graph, \"a\", visited)\n",
    "visited"
   ]
  },
  {
   "cell_type": "markdown",
   "id": "ca867899",
   "metadata": {},
   "source": [
    "## 5- BFS"
   ]
  },
  {
   "cell_type": "code",
   "execution_count": 9,
   "id": "57935790",
   "metadata": {},
   "outputs": [],
   "source": [
    "def BFS(graph, startPoint, size):\n",
    "    visited = []\n",
    "    childs = Queue(size)\n",
    "    childs.push(startPoint)\n",
    "    \n",
    "    while not childs.isEmpty():\n",
    "        node = childs.pop()\n",
    "        if node not in visited:\n",
    "            visited.append(node)\n",
    "            for i in graph[node]:\n",
    "                childs.push(i)\n",
    "        \n",
    "    return visited"
   ]
  },
  {
   "cell_type": "code",
   "execution_count": 10,
   "id": "59b173ef",
   "metadata": {},
   "outputs": [
    {
     "data": {
      "text/plain": [
       "['a', 'b', 'c', 'e', 'd', 'f']"
      ]
     },
     "execution_count": 10,
     "metadata": {},
     "output_type": "execute_result"
    }
   ],
   "source": [
    "BFS(Graph, \"a\", 100)"
   ]
  }
 ],
 "metadata": {
  "kernelspec": {
   "display_name": "Python 3 (ipykernel)",
   "language": "python",
   "name": "python3"
  },
  "language_info": {
   "codemirror_mode": {
    "name": "ipython",
    "version": 3
   },
   "file_extension": ".py",
   "mimetype": "text/x-python",
   "name": "python",
   "nbconvert_exporter": "python",
   "pygments_lexer": "ipython3",
   "version": "3.8.10"
  }
 },
 "nbformat": 4,
 "nbformat_minor": 5
}
