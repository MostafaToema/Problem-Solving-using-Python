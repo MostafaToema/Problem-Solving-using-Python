{
 "cells": [
  {
   "cell_type": "code",
   "execution_count": 1,
   "id": "3b55e09c",
   "metadata": {},
   "outputs": [
    {
     "name": "stdout",
     "output_type": "stream",
     "text": [
      "120\n"
     ]
    }
   ],
   "source": [
    "#iterative Factorial \n",
    "def fact(n):\n",
    "    result = 1\n",
    "    for i in range(1,n+1):\n",
    "        result = result * i\n",
    "    return result\n",
    "\n",
    "print(fact(5))"
   ]
  },
  {
   "cell_type": "code",
   "execution_count": 2,
   "id": "39c7a67d",
   "metadata": {},
   "outputs": [
    {
     "name": "stdout",
     "output_type": "stream",
     "text": [
      "120\n"
     ]
    }
   ],
   "source": [
    "#recursive Factorial\n",
    "def fact_rec(n):\n",
    "    if n <= 1:\n",
    "        return 1\n",
    "    else:\n",
    "        return n * fact_rec(n - 1)\n",
    "\n",
    "print(fact_rec(5))"
   ]
  },
  {
   "cell_type": "code",
   "execution_count": 3,
   "id": "00ae8d0f",
   "metadata": {},
   "outputs": [
    {
     "name": "stdout",
     "output_type": "stream",
     "text": [
      "8\n"
     ]
    }
   ],
   "source": [
    "#iterative Fibonacci\n",
    "def fib(n):\n",
    "    f0 = 0\n",
    "    f1 = 1 \n",
    "    for i in range(n):\n",
    "        f0, f1 = f1, f0 + f1\n",
    "        \n",
    "    return f1\n",
    "\n",
    "print(fib(5))"
   ]
  },
  {
   "cell_type": "code",
   "execution_count": 4,
   "id": "fb2bd187",
   "metadata": {},
   "outputs": [
    {
     "name": "stdout",
     "output_type": "stream",
     "text": [
      "8\n"
     ]
    }
   ],
   "source": [
    "#recursive Fibonacci \n",
    "def fib_rec(n):\n",
    "    if n <= 1:\n",
    "        return 1\n",
    "    else:\n",
    "        return fib_rec(n - 1) + fib_rec(n - 2)\n",
    "        \n",
    "    return f1\n",
    "\n",
    "print(fib_rec(5))"
   ]
  },
  {
   "cell_type": "code",
   "execution_count": 5,
   "id": "0d56f5e0",
   "metadata": {},
   "outputs": [
    {
     "name": "stdout",
     "output_type": "stream",
     "text": [
      "6\n"
     ]
    }
   ],
   "source": [
    "#iterative GCD \n",
    "#negative value is handled\n",
    "def GCD(n1, n2):\n",
    "    if abs(n1) % abs(n2) == 0 or abs(n2) % abs(n1) == 0:\n",
    "        return min(abs(n1), abs(n2))\n",
    "    else:\n",
    "        iter = int(min(n1, n2)/2)\n",
    "        for i in range(iter, 0, -1):\n",
    "            if(abs(n1)%i == 0 and abs(n2)%i == 0):\n",
    "                return i\n",
    "            \n",
    "print(GCD(54,24))"
   ]
  },
  {
   "cell_type": "code",
   "execution_count": 6,
   "id": "4a27c041",
   "metadata": {},
   "outputs": [
    {
     "name": "stdout",
     "output_type": "stream",
     "text": [
      "6\n"
     ]
    }
   ],
   "source": [
    "#Enhanced GCD \n",
    "#negative value is handled\n",
    "def GCD_ENH(n1, n2):\n",
    "    while n2:\n",
    "        n1, n2 = n2, n1%n2\n",
    "    return n1\n",
    "print(GCD_ENH(54,24))"
   ]
  },
  {
   "cell_type": "code",
   "execution_count": 7,
   "id": "9574c3b2",
   "metadata": {},
   "outputs": [
    {
     "name": "stdout",
     "output_type": "stream",
     "text": [
      "6\n"
     ]
    }
   ],
   "source": [
    "#Enhanced GCD using recursion\n",
    "def GCD_ENH_rec(n1, n2):\n",
    "    if n2 == 0:\n",
    "        return n1\n",
    "    else:\n",
    "        return GCD_ENH_rec(n2,n1%n2)\n",
    "print(GCD_ENH_rec(54,24))"
   ]
  },
  {
   "cell_type": "code",
   "execution_count": 8,
   "id": "c2e9cfcd",
   "metadata": {},
   "outputs": [
    {
     "name": "stdout",
     "output_type": "stream",
     "text": [
      "[-1, 1, 2, 3, 4, 5, 8, 10]\n"
     ]
    }
   ],
   "source": [
    "#insertation sort\n",
    "def insertation_sort(l):\n",
    "    for i in range(1, len(l)):\n",
    "        j = i - 1\n",
    "        key = l[i]\n",
    "        while j >= 0 and key < l[j]:\n",
    "            l[j+1] = l[j]\n",
    "            j = j - 1\n",
    "        l[j+1] = key\n",
    "    return l\n",
    "print(insertation_sort([2,5,10,3,8,4,1,-1]))"
   ]
  },
  {
   "cell_type": "code",
   "execution_count": 9,
   "id": "d2f67026",
   "metadata": {},
   "outputs": [
    {
     "name": "stdout",
     "output_type": "stream",
     "text": [
      "[-1, 1, 2, 3, 4, 5, 8, 10]\n"
     ]
    }
   ],
   "source": [
    "#insertation sort using recursion\n",
    "def insertation_sort_rec(l, index):\n",
    "    if index == len(l):\n",
    "        return None\n",
    "    j = index - 1\n",
    "    key = l[index]\n",
    "    while j >= 0 and key < l[j]:\n",
    "        l[j+1] = l[j]\n",
    "        j = j - 1\n",
    "    l[j+1] = key\n",
    "    insertation_sort_rec(l, index+1)\n",
    "    return l\n",
    "\n",
    "print(insertation_sort_rec([2,5,10,3,8,4,1,-1], 1))"
   ]
  },
  {
   "cell_type": "code",
   "execution_count": 10,
   "id": "979fe10c",
   "metadata": {},
   "outputs": [
    {
     "name": "stdout",
     "output_type": "stream",
     "text": [
      "[-1, 1, 2, 3, 4, 5, 8, 10]\n"
     ]
    }
   ],
   "source": [
    "#Bubble sort\n",
    "def bubble_sort(l):\n",
    "    for i in range(1, len(l)):\n",
    "        x = len(l) - i\n",
    "        for j in range(x):\n",
    "            if l[j] > l[j+1]:\n",
    "                l[j], l[j+1] = l[j+1], l[j]\n",
    "    return l\n",
    "print(bubble_sort([2,5,10,3,8,4,1,-1]))"
   ]
  },
  {
   "cell_type": "code",
   "execution_count": 11,
   "id": "d8964ca9",
   "metadata": {},
   "outputs": [
    {
     "name": "stdout",
     "output_type": "stream",
     "text": [
      "[-1, 1, 2, 3, 4, 5, 8, 10]\n",
      "[-1, 1, 2, 3, 4, 5, 8, 10]\n"
     ]
    }
   ],
   "source": [
    "#Enhanced Bubble sort\n",
    "def enhanced_bubble_sort(l):\n",
    "    swapped = False\n",
    "    for i in range(1, len(l)):\n",
    "        x = len(l) - i\n",
    "        for j in range(x):\n",
    "            if l[j] > l[j+1]:\n",
    "                l[j], l[j+1] = l[j+1], l[j]\n",
    "                swapped = True\n",
    "        if(swapped == False):\n",
    "            break\n",
    "    return l\n",
    "\n",
    "#unsorted array\n",
    "print(enhanced_bubble_sort([2, 5, 10, 3, 8, 4, 1, -1]))\n",
    "#sorted array\n",
    "print(enhanced_bubble_sort([-1, 1, 2, 3, 4, 5, 8, 10]))"
   ]
  },
  {
   "cell_type": "code",
   "execution_count": 12,
   "id": "5f6ff898",
   "metadata": {},
   "outputs": [
    {
     "name": "stdout",
     "output_type": "stream",
     "text": [
      "[-1, 1, 2, 3, 4, 5, 8, 10]\n"
     ]
    }
   ],
   "source": [
    "#Selection sort\n",
    "def selection_sort(l):\n",
    "    for i in range(len(l)):\n",
    "        smallest = i\n",
    "        for j in range(i, len(l)):\n",
    "            if l[j] <= l[smallest]:\n",
    "                smallest = j\n",
    "        if smallest != i:\n",
    "            l[smallest], l[i] = l[i], l[smallest]\n",
    "    return l\n",
    "print(selection_sort([2,5,10,3,8,4,1,-1]))"
   ]
  },
  {
   "cell_type": "code",
   "execution_count": 13,
   "id": "b7d60727",
   "metadata": {},
   "outputs": [
    {
     "name": "stdout",
     "output_type": "stream",
     "text": [
      "6\n",
      "-1\n"
     ]
    }
   ],
   "source": [
    "#Linear search\n",
    "def linear_search(l, target):\n",
    "    for index in range(len(l)):\n",
    "        if target == l[index]:\n",
    "            return index\n",
    "    return -1\n",
    "\n",
    "print(linear_search([-1, 1, 2, 3, 4, 5, 8, 10], 8))\n",
    "print(linear_search([-1, 1, 2, 3, 4, 5, 8, 10], 11))"
   ]
  },
  {
   "cell_type": "code",
   "execution_count": 14,
   "id": "c78adef6",
   "metadata": {},
   "outputs": [
    {
     "name": "stdout",
     "output_type": "stream",
     "text": [
      "6\n",
      "-1\n"
     ]
    }
   ],
   "source": [
    "#Linear search using recursion\n",
    "def linear_search_rec(l, target, index):\n",
    "    if index == len(l):\n",
    "        return -1\n",
    "    elif target == l[index]:\n",
    "        return index\n",
    "    else:\n",
    "        return linear_search_rec(l, target, index + 1)\n",
    "    \n",
    "print(linear_search_rec([-1, 1, 2, 3, 4, 5, 8, 10], 8, 0))\n",
    "print(linear_search_rec([-1, 1, 2, 3, 4, 5, 8, 10], 6, 0))"
   ]
  },
  {
   "cell_type": "code",
   "execution_count": 15,
   "id": "7196df75",
   "metadata": {},
   "outputs": [
    {
     "name": "stdout",
     "output_type": "stream",
     "text": [
      "6\n",
      "-1\n"
     ]
    }
   ],
   "source": [
    "#Binary search\n",
    "def binary_search(l, target):\n",
    "    start = 0\n",
    "    end = len(l) - 1\n",
    "    \n",
    "    while start <= end:\n",
    "        mid = (end + start) // 2\n",
    "        \n",
    "        if target < l[mid]:\n",
    "            end = mid - 1\n",
    "        elif target > l[mid]:\n",
    "            start = mid + 1\n",
    "        else:\n",
    "            return mid\n",
    "    return -1\n",
    "\n",
    "#array must be sorted\n",
    "l = [-1, 1, 2, 3, 4, 5, 8, 10]\n",
    "print(binary_search(l, 8))\n",
    "print(binary_search(l, 6))"
   ]
  },
  {
   "cell_type": "code",
   "execution_count": 16,
   "id": "6da82c30",
   "metadata": {},
   "outputs": [
    {
     "name": "stdout",
     "output_type": "stream",
     "text": [
      "6\n",
      "-1\n"
     ]
    }
   ],
   "source": [
    "#Binary search using recursion\n",
    "def binary_search_rec(l, target, start, end):\n",
    "    \n",
    "    if start > end:\n",
    "        return -1\n",
    "    else:\n",
    "        mid = (end + start) // 2\n",
    "        if target < l[mid]:\n",
    "            end = mid - 1\n",
    "            return binary_search_rec(l, target, start, end)\n",
    "        elif target > l[mid]:\n",
    "            start = mid + 1\n",
    "            return binary_search_rec(l, target, start, end)\n",
    "        else:\n",
    "            return mid\n",
    "        \n",
    "#array must be sorted\n",
    "l = [-1, 1, 2, 3, 4, 5, 8, 10]\n",
    "print(binary_search_rec(l, 8, 0, len(l) - 1))\n",
    "print(binary_search_rec(l, 6, 0, len(l) - 1))"
   ]
  }
 ],
 "metadata": {
  "kernelspec": {
   "display_name": "Python 3 (ipykernel)",
   "language": "python",
   "name": "python3"
  },
  "language_info": {
   "codemirror_mode": {
    "name": "ipython",
    "version": 3
   },
   "file_extension": ".py",
   "mimetype": "text/x-python",
   "name": "python",
   "nbconvert_exporter": "python",
   "pygments_lexer": "ipython3",
   "version": "3.8.10"
  }
 },
 "nbformat": 4,
 "nbformat_minor": 5
}
